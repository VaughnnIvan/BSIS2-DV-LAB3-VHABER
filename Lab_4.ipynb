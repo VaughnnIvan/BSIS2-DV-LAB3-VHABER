{
  "nbformat": 4,
  "nbformat_minor": 0,
  "metadata": {
    "colab": {
      "provenance": [],
      "authorship_tag": "ABX9TyMRXZIOv8zCqaZKgcF3ol71",
      "include_colab_link": true
    },
    "kernelspec": {
      "name": "python3",
      "display_name": "Python 3"
    },
    "language_info": {
      "name": "python"
    }
  },
  "cells": [
    {
      "cell_type": "markdown",
      "metadata": {
        "id": "view-in-github",
        "colab_type": "text"
      },
      "source": [
        "<a href=\"https://colab.research.google.com/github/VaughnnIvan/BSIS2-DV-LAB3-VHABER/blob/main/Lab_4.ipynb\" target=\"_parent\"><img src=\"https://colab.research.google.com/assets/colab-badge.svg\" alt=\"Open In Colab\"/></a>"
      ]
    },
    {
      "cell_type": "code",
      "execution_count": 3,
      "metadata": {
        "colab": {
          "base_uri": "https://localhost:8080/"
        },
        "id": "1zSpfDzobf_e",
        "outputId": "8a70339e-939f-4e53-b269-efa44be1271c"
      },
      "outputs": [
        {
          "output_type": "stream",
          "name": "stdout",
          "text": [
            "What is the temperature outside?:14\n",
            "the temperature is good today\n",
            "can go outside\n"
          ]
        }
      ],
      "source": [
        "tempe = int(input(\"What is the temperature outside?:\"))\n",
        "\n",
        "if tempe >= 0 and tempe <=30:\n",
        " print(\"the temperature is good today\")\n",
        " print(\"can go outside\")"
      ]
    }
  ]
}