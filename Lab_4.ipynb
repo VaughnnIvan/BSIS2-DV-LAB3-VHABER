{
  "nbformat": 4,
  "nbformat_minor": 0,
  "metadata": {
    "colab": {
      "provenance": [],
      "authorship_tag": "ABX9TyOW9vtYeUDA0mT8Ltx7Jszj",
      "include_colab_link": true
    },
    "kernelspec": {
      "name": "python3",
      "display_name": "Python 3"
    },
    "language_info": {
      "name": "python"
    }
  },
  "cells": [
    {
      "cell_type": "markdown",
      "metadata": {
        "id": "view-in-github",
        "colab_type": "text"
      },
      "source": [
        "<a href=\"https://colab.research.google.com/github/VaughnnIvan/BSIS2-DV-LAB4-VHABER/blob/main/Lab_4.ipynb\" target=\"_parent\"><img src=\"https://colab.research.google.com/assets/colab-badge.svg\" alt=\"Open In Colab\"/></a>"
      ]
    },
    {
      "cell_type": "code",
      "execution_count": null,
      "metadata": {
        "colab": {
          "base_uri": "https://localhost:8080/"
        },
        "id": "1zSpfDzobf_e",
        "outputId": "8201ed2b-ec2c-4ed3-c183-ab489d4cc487"
      },
      "outputs": [
        {
          "output_type": "stream",
          "name": "stdout",
          "text": [
            "What is the temperature outside?:0\n",
            "the temperature is good today\n",
            "can go outside\n"
          ]
        }
      ],
      "source": [
        "tempe = int(input(\"What is the temperature outside?:\"))\n",
        "\n",
        "if tempe >= 0 and tempe <=30:\n",
        " print(\"the temperature is good today\")\n",
        " print(\"can go outside\")"
      ]
    },
    {
      "cell_type": "code",
      "source": [
        "tempe = int(input(\"What is the temperature outside?:\"))\n",
        "\n",
        "if tempe >= 0 and tempe <=30:\n",
        " print(\"the temperature is good today\")\n",
        " print(\"can go outside\")"
      ],
      "metadata": {
        "colab": {
          "base_uri": "https://localhost:8080/"
        },
        "id": "6on6hFGvqWUp",
        "outputId": "de832967-d32b-4393-e9e7-6f6fada6b924"
      },
      "execution_count": null,
      "outputs": [
        {
          "output_type": "stream",
          "name": "stdout",
          "text": [
            "What is the temperature outside?:24\n",
            "the temperature is good today\n",
            "can go outside\n"
          ]
        }
      ]
    }
  ]
}